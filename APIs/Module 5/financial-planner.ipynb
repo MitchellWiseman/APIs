{
 "cells": [
  {
   "cell_type": "markdown",
   "metadata": {},
   "source": [
    "# Unit 5 - Financial Planning"
   ]
  },
  {
   "cell_type": "code",
   "execution_count": 21,
   "metadata": {},
   "outputs": [],
   "source": [
    "# Initial imports\n",
    "import os\n",
    "import requests\n",
    "import pandas as pd\n",
    "from dotenv import load_dotenv\n",
    "import alpaca_trade_api as tradeapi\n",
    "from MCForecastTools import MCSimulation\n",
    "import warnings\n",
    "warnings.filterwarnings('ignore')\n",
    "\n",
    "%matplotlib inline"
   ]
  },
  {
   "cell_type": "code",
   "execution_count": 2,
   "metadata": {},
   "outputs": [
    {
     "data": {
      "text/plain": [
       "True"
      ]
     },
     "execution_count": 2,
     "metadata": {},
     "output_type": "execute_result"
    }
   ],
   "source": [
    "# Load .env enviroment variables\n",
    "load_dotenv('keys.env')\n"
   ]
  },
  {
   "cell_type": "markdown",
   "metadata": {},
   "source": [
    "## Part 1 - Personal Finance Planner"
   ]
  },
  {
   "cell_type": "markdown",
   "metadata": {},
   "source": [
    "### Collect Crypto Prices Using the `requests` Library"
   ]
  },
  {
   "cell_type": "code",
   "execution_count": 3,
   "metadata": {},
   "outputs": [],
   "source": [
    "# Set current amount of crypto assets\n",
    "my_btc = 1.2\n",
    "my_eth = 5.3\n",
    "\n",
    "# YOUR CODE HERE!"
   ]
  },
  {
   "cell_type": "code",
   "execution_count": 4,
   "metadata": {},
   "outputs": [],
   "source": [
    "# Crypto API URLs\n",
    "btc_url = \"https://api.alternative.me/v2/ticker/Bitcoin/?convert=USD\"\n",
    "eth_url = \"https://api.alternative.me/v2/ticker/Ethereum/?convert=USD\""
   ]
  },
  {
   "cell_type": "code",
   "execution_count": 5,
   "metadata": {},
   "outputs": [
    {
     "data": {
      "text/plain": [
       "26942.0"
      ]
     },
     "execution_count": 5,
     "metadata": {},
     "output_type": "execute_result"
    }
   ],
   "source": [
    "btc_json = requests.get(btc_url).json()\n",
    "btc_json['data']['1']['quotes']['USD']['price']"
   ]
  },
  {
   "cell_type": "code",
   "execution_count": 6,
   "metadata": {},
   "outputs": [
    {
     "data": {
      "text/plain": [
       "1791.37"
      ]
     },
     "execution_count": 6,
     "metadata": {},
     "output_type": "execute_result"
    }
   ],
   "source": [
    "eth_json = requests.get(eth_url).json()\n",
    "eth_json['data']['1027']['quotes']['USD']['price']"
   ]
  },
  {
   "cell_type": "code",
   "execution_count": 7,
   "metadata": {},
   "outputs": [
    {
     "name": "stdout",
     "output_type": "stream",
     "text": [
      "The current value of your 1.2 BTC is $32330.40\n",
      "The current value of your 5.3 ETH is $9494.26\n"
     ]
    }
   ],
   "source": [
    "# Fetch current BTC price\n",
    "# YOUR CODE HERE!\n",
    "btc_json = requests.get(btc_url).json()\n",
    "btc_price = btc_json['data']['1']['quotes']['USD']['price']\n",
    "# Fetch current ETH price\n",
    "# YOUR CODE HERE!\n",
    "eth_json = requests.get(eth_url).json()\n",
    "eth_price = eth_json['data']['1027']['quotes']['USD']['price']\n",
    "# Compute current value of my crpto\n",
    "# YOUR CODE HERE!\n",
    "my_btc_value = (my_btc * btc_price)\n",
    "my_eth_value = (my_eth * eth_price)\n",
    "# Print current crypto wallet balance\n",
    "print(f\"The current value of your {my_btc} BTC is ${my_btc_value:0.2f}\")\n",
    "print(f\"The current value of your {my_eth} ETH is ${my_eth_value:0.2f}\")"
   ]
  },
  {
   "cell_type": "code",
   "execution_count": null,
   "metadata": {},
   "outputs": [],
   "source": []
  },
  {
   "cell_type": "markdown",
   "metadata": {},
   "source": [
    "### Collect Investments Data Using Alpaca: `SPY` (stocks) and `AGG` (bonds)"
   ]
  },
  {
   "cell_type": "code",
   "execution_count": 8,
   "metadata": {},
   "outputs": [],
   "source": [
    "# Set current amount of shares\n",
    "my_agg = 200\n",
    "my_spy = 50"
   ]
  },
  {
   "cell_type": "code",
   "execution_count": 9,
   "metadata": {},
   "outputs": [],
   "source": [
    "# Set Alpaca API key and secret\n",
    "alpaca_api_key = os.getenv('alpaca_api_key')\n",
    "alpaca_secret_key = os.getenv('alpaca_secret_key')\n",
    "\n",
    "# Create the Alpaca API object\n",
    "alpaca = tradeapi.REST(alpaca_api_key, alpaca_secret_key, api_version = 'v2')"
   ]
  },
  {
   "cell_type": "code",
   "execution_count": 10,
   "metadata": {},
   "outputs": [
    {
     "data": {
      "text/html": [
       "<div>\n",
       "<style scoped>\n",
       "    .dataframe tbody tr th:only-of-type {\n",
       "        vertical-align: middle;\n",
       "    }\n",
       "\n",
       "    .dataframe tbody tr th {\n",
       "        vertical-align: top;\n",
       "    }\n",
       "\n",
       "    .dataframe thead tr th {\n",
       "        text-align: left;\n",
       "    }\n",
       "\n",
       "    .dataframe thead tr:last-of-type th {\n",
       "        text-align: right;\n",
       "    }\n",
       "</style>\n",
       "<table border=\"1\" class=\"dataframe\">\n",
       "  <thead>\n",
       "    <tr>\n",
       "      <th></th>\n",
       "      <th colspan=\"7\" halign=\"left\">AGG</th>\n",
       "      <th colspan=\"7\" halign=\"left\">SPY</th>\n",
       "    </tr>\n",
       "    <tr>\n",
       "      <th></th>\n",
       "      <th>open</th>\n",
       "      <th>high</th>\n",
       "      <th>low</th>\n",
       "      <th>close</th>\n",
       "      <th>volume</th>\n",
       "      <th>trade_count</th>\n",
       "      <th>vwap</th>\n",
       "      <th>open</th>\n",
       "      <th>high</th>\n",
       "      <th>low</th>\n",
       "      <th>close</th>\n",
       "      <th>volume</th>\n",
       "      <th>trade_count</th>\n",
       "      <th>vwap</th>\n",
       "    </tr>\n",
       "    <tr>\n",
       "      <th>timestamp</th>\n",
       "      <th></th>\n",
       "      <th></th>\n",
       "      <th></th>\n",
       "      <th></th>\n",
       "      <th></th>\n",
       "      <th></th>\n",
       "      <th></th>\n",
       "      <th></th>\n",
       "      <th></th>\n",
       "      <th></th>\n",
       "      <th></th>\n",
       "      <th></th>\n",
       "      <th></th>\n",
       "      <th></th>\n",
       "    </tr>\n",
       "  </thead>\n",
       "  <tbody>\n",
       "    <tr>\n",
       "      <th>2023-05-09 04:00:00+00:00</th>\n",
       "      <td>99.11</td>\n",
       "      <td>99.19</td>\n",
       "      <td>99.01</td>\n",
       "      <td>99.01</td>\n",
       "      <td>5712210</td>\n",
       "      <td>22222</td>\n",
       "      <td>99.077911</td>\n",
       "      <td>411.13</td>\n",
       "      <td>412.09</td>\n",
       "      <td>410.6894</td>\n",
       "      <td>410.93</td>\n",
       "      <td>49220119</td>\n",
       "      <td>385994</td>\n",
       "      <td>411.356198</td>\n",
       "    </tr>\n",
       "  </tbody>\n",
       "</table>\n",
       "</div>"
      ],
      "text/plain": [
       "                             AGG                                            \\\n",
       "                            open   high    low  close   volume trade_count   \n",
       "timestamp                                                                    \n",
       "2023-05-09 04:00:00+00:00  99.11  99.19  99.01  99.01  5712210       22222   \n",
       "\n",
       "                                         SPY                            \\\n",
       "                                vwap    open    high       low   close   \n",
       "timestamp                                                                \n",
       "2023-05-09 04:00:00+00:00  99.077911  411.13  412.09  410.6894  410.93   \n",
       "\n",
       "                                                             \n",
       "                             volume trade_count        vwap  \n",
       "timestamp                                                    \n",
       "2023-05-09 04:00:00+00:00  49220119      385994  411.356198  "
      ]
     },
     "execution_count": 10,
     "metadata": {},
     "output_type": "execute_result"
    }
   ],
   "source": [
    "# Format current date as ISO format\n",
    "today = pd.Timestamp('2023-05-09', tz = 'America/New_York').isoformat()\n",
    "\n",
    "# Set the tickers\n",
    "tickers = [\"AGG\", \"SPY\"]\n",
    "\n",
    "# Set timeframe to \"1Day\" for Alpaca API\n",
    "timeframe = \"1Day\"\n",
    "\n",
    "# Get current closing prices for SPY and AGG\n",
    "current_prices  = alpaca.get_bars(tickers, timeframe, start = today, end = today).df\n",
    "\n",
    "# Reorganize the DataFrame\n",
    "# Separate ticker data\n",
    "AGG = current_prices[current_prices['symbol'] == 'AGG'].drop('symbol', axis = 1)\n",
    "SPY = current_prices[current_prices['symbol'] == 'SPY'].drop('symbol', axis = 1)\n",
    "\n",
    "# Concatenate the ticker DataFrames\n",
    "current_prices = pd.concat([AGG, SPY], axis = 1, keys = ['AGG', 'SPY'])\n",
    "\n",
    "# Preview DataFrame\n",
    "current_prices"
   ]
  },
  {
   "cell_type": "code",
   "execution_count": 11,
   "metadata": {},
   "outputs": [
    {
     "name": "stdout",
     "output_type": "stream",
     "text": [
      "Current AGG closing price: $99.01\n",
      "Current SPY closing price: $410.93\n"
     ]
    }
   ],
   "source": [
    "# Pick AGG and SPY close prices\n",
    "agg_close_price = current_prices['AGG']['close'][0]\n",
    "spy_close_price = current_prices['SPY']['close'][0]\n",
    "\n",
    "# Print AGG and SPY close prices\n",
    "print(f\"Current AGG closing price: ${agg_close_price}\")\n",
    "print(f\"Current SPY closing price: ${spy_close_price}\")"
   ]
  },
  {
   "cell_type": "code",
   "execution_count": 12,
   "metadata": {},
   "outputs": [
    {
     "name": "stdout",
     "output_type": "stream",
     "text": [
      "The current value of your 50 SPY shares is $20546.50\n",
      "The current value of your 200 AGG shares is $19802.00\n"
     ]
    }
   ],
   "source": [
    "# Compute the current value of shares\n",
    "my_agg_value = (agg_close_price * my_agg)\n",
    "my_spy_value = (spy_close_price * my_spy)\n",
    "# Print current value of shares\n",
    "print(f\"The current value of your {my_spy} SPY shares is ${my_spy_value:0.2f}\")\n",
    "print(f\"The current value of your {my_agg} AGG shares is ${my_agg_value:0.2f}\")"
   ]
  },
  {
   "cell_type": "markdown",
   "metadata": {},
   "source": [
    "### Savings Health Analysis"
   ]
  },
  {
   "cell_type": "code",
   "execution_count": 13,
   "metadata": {},
   "outputs": [
    {
     "data": {
      "text/html": [
       "<div>\n",
       "<style scoped>\n",
       "    .dataframe tbody tr th:only-of-type {\n",
       "        vertical-align: middle;\n",
       "    }\n",
       "\n",
       "    .dataframe tbody tr th {\n",
       "        vertical-align: top;\n",
       "    }\n",
       "\n",
       "    .dataframe thead th {\n",
       "        text-align: right;\n",
       "    }\n",
       "</style>\n",
       "<table border=\"1\" class=\"dataframe\">\n",
       "  <thead>\n",
       "    <tr style=\"text-align: right;\">\n",
       "      <th></th>\n",
       "      <th>amount</th>\n",
       "    </tr>\n",
       "  </thead>\n",
       "  <tbody>\n",
       "    <tr>\n",
       "      <th>crypto</th>\n",
       "      <td>41824.661</td>\n",
       "    </tr>\n",
       "    <tr>\n",
       "      <th>shares</th>\n",
       "      <td>40348.500</td>\n",
       "    </tr>\n",
       "  </tbody>\n",
       "</table>\n",
       "</div>"
      ],
      "text/plain": [
       "           amount\n",
       "crypto  41824.661\n",
       "shares  40348.500"
      ]
     },
     "execution_count": 13,
     "metadata": {},
     "output_type": "execute_result"
    }
   ],
   "source": [
    "# Set monthly household income\n",
    "monthly_income = 12000\n",
    "# Consolidate financial assets data\n",
    "crypto_value = my_btc_value + my_eth_value\n",
    "shares_value = my_spy_value + my_agg_value\n",
    "assets_type = [\"crypto\", \"shares\"]\n",
    "# Create savings DataFrame\n",
    "# YOUR CODE HERE!\n",
    "df_savings = pd.DataFrame(index=[assets_type])\n",
    "df_savings['amount'] = [crypto_value, shares_value]\n",
    "# Display savings DataFrame\n",
    "df_savings"
   ]
  },
  {
   "cell_type": "code",
   "execution_count": 14,
   "metadata": {},
   "outputs": [
    {
     "data": {
      "text/plain": [
       "<Axes: ylabel='amount'>"
      ]
     },
     "execution_count": 14,
     "metadata": {},
     "output_type": "execute_result"
    },
    {
     "data": {
      "image/png": "[encoded data removed]",
      "text/plain": [
       "<Figure size 640x480 with 1 Axes>"
      ]
     },
     "metadata": {},
     "output_type": "display_data"
    }
   ],
   "source": [
    "# Plot savings pie chart\n",
    "labels = 'Crypto', 'Shares'\n",
    "df_savings.plot.pie(y='amount',subplots=False, autopct='%1.1f%%', labels=labels)"
   ]
  },
  {
   "cell_type": "code",
   "execution_count": 15,
   "metadata": {},
   "outputs": [
    {
     "name": "stdout",
     "output_type": "stream",
     "text": [
      "You do not have enought money in your savings to invest.\n"
     ]
    }
   ],
   "source": [
    "# Set ideal emergency fund\n",
    "emergency_fund = monthly_income * 3\n",
    "\n",
    "# Calculate total amount of savings\n",
    "total_savings = df_savings['amount'][0] + df_savings['amount'][1]\n",
    "\n",
    "# Validate saving health\n",
    "if total_savings < emergency_fund:\n",
    "    print(f\"You have enought money to invest if there was an emergency\")\n",
    "elif total_savings > emergency_fund:\n",
    "    print(f\"You do not have enought money in your savings to invest.\")"
   ]
  },
  {
   "cell_type": "markdown",
   "metadata": {},
   "source": [
    "## Part 2 - Retirement Planning\n",
    "\n",
    "### Monte Carlo Simulation"
   ]
  },
  {
   "cell_type": "code",
   "execution_count": 16,
   "metadata": {},
   "outputs": [],
   "source": [
    "# Set start and end dates of five years back from today.\n",
    "# Sample results may vary from the solution based on the time frame chosen\n",
    "start_date = pd.Timestamp('2018-05-09', tz='America/New_York').isoformat()\n",
    "end_date = pd.Timestamp('2023-05-09', tz='America/New_York').isoformat()"
   ]
  },
  {
   "cell_type": "code",
   "execution_count": 17,
   "metadata": {},
   "outputs": [
    {
     "data": {
      "text/html": [
       "<div>\n",
       "<style scoped>\n",
       "    .dataframe tbody tr th:only-of-type {\n",
       "        vertical-align: middle;\n",
       "    }\n",
       "\n",
       "    .dataframe tbody tr th {\n",
       "        vertical-align: top;\n",
       "    }\n",
       "\n",
       "    .dataframe thead tr th {\n",
       "        text-align: left;\n",
       "    }\n",
       "\n",
       "    .dataframe thead tr:last-of-type th {\n",
       "        text-align: right;\n",
       "    }\n",
       "</style>\n",
       "<table border=\"1\" class=\"dataframe\">\n",
       "  <thead>\n",
       "    <tr>\n",
       "      <th></th>\n",
       "      <th colspan=\"7\" halign=\"left\">AGG</th>\n",
       "      <th colspan=\"7\" halign=\"left\">SPY</th>\n",
       "    </tr>\n",
       "    <tr>\n",
       "      <th></th>\n",
       "      <th>open</th>\n",
       "      <th>high</th>\n",
       "      <th>low</th>\n",
       "      <th>close</th>\n",
       "      <th>volume</th>\n",
       "      <th>trade_count</th>\n",
       "      <th>vwap</th>\n",
       "      <th>open</th>\n",
       "      <th>high</th>\n",
       "      <th>low</th>\n",
       "      <th>close</th>\n",
       "      <th>volume</th>\n",
       "      <th>trade_count</th>\n",
       "      <th>vwap</th>\n",
       "    </tr>\n",
       "    <tr>\n",
       "      <th>timestamp</th>\n",
       "      <th></th>\n",
       "      <th></th>\n",
       "      <th></th>\n",
       "      <th></th>\n",
       "      <th></th>\n",
       "      <th></th>\n",
       "      <th></th>\n",
       "      <th></th>\n",
       "      <th></th>\n",
       "      <th></th>\n",
       "      <th></th>\n",
       "      <th></th>\n",
       "      <th></th>\n",
       "      <th></th>\n",
       "    </tr>\n",
       "  </thead>\n",
       "  <tbody>\n",
       "    <tr>\n",
       "      <th>2018-05-09 04:00:00+00:00</th>\n",
       "      <td>105.56</td>\n",
       "      <td>105.64</td>\n",
       "      <td>105.52</td>\n",
       "      <td>105.57</td>\n",
       "      <td>2507491</td>\n",
       "      <td>8019</td>\n",
       "      <td>105.586028</td>\n",
       "      <td>267.68</td>\n",
       "      <td>269.865</td>\n",
       "      <td>267.09</td>\n",
       "      <td>269.47</td>\n",
       "      <td>59773310</td>\n",
       "      <td>255999</td>\n",
       "      <td>268.713210</td>\n",
       "    </tr>\n",
       "    <tr>\n",
       "      <th>2018-05-10 04:00:00+00:00</th>\n",
       "      <td>105.75</td>\n",
       "      <td>105.82</td>\n",
       "      <td>105.69</td>\n",
       "      <td>105.81</td>\n",
       "      <td>2096854</td>\n",
       "      <td>8645</td>\n",
       "      <td>105.750081</td>\n",
       "      <td>270.34</td>\n",
       "      <td>272.390</td>\n",
       "      <td>270.22</td>\n",
       "      <td>272.00</td>\n",
       "      <td>72065572</td>\n",
       "      <td>258139</td>\n",
       "      <td>271.419538</td>\n",
       "    </tr>\n",
       "    <tr>\n",
       "      <th>2018-05-11 04:00:00+00:00</th>\n",
       "      <td>105.90</td>\n",
       "      <td>105.90</td>\n",
       "      <td>105.76</td>\n",
       "      <td>105.86</td>\n",
       "      <td>2034081</td>\n",
       "      <td>8714</td>\n",
       "      <td>105.850098</td>\n",
       "      <td>272.16</td>\n",
       "      <td>273.150</td>\n",
       "      <td>271.58</td>\n",
       "      <td>272.64</td>\n",
       "      <td>59909145</td>\n",
       "      <td>215034</td>\n",
       "      <td>272.463557</td>\n",
       "    </tr>\n",
       "    <tr>\n",
       "      <th>2018-05-14 04:00:00+00:00</th>\n",
       "      <td>105.79</td>\n",
       "      <td>105.85</td>\n",
       "      <td>105.74</td>\n",
       "      <td>105.76</td>\n",
       "      <td>2183502</td>\n",
       "      <td>10216</td>\n",
       "      <td>105.800146</td>\n",
       "      <td>273.34</td>\n",
       "      <td>274.080</td>\n",
       "      <td>272.36</td>\n",
       "      <td>272.95</td>\n",
       "      <td>55292206</td>\n",
       "      <td>215002</td>\n",
       "      <td>273.086937</td>\n",
       "    </tr>\n",
       "    <tr>\n",
       "      <th>2018-05-15 04:00:00+00:00</th>\n",
       "      <td>105.49</td>\n",
       "      <td>105.49</td>\n",
       "      <td>105.19</td>\n",
       "      <td>105.29</td>\n",
       "      <td>2166571</td>\n",
       "      <td>9762</td>\n",
       "      <td>105.340494</td>\n",
       "      <td>271.59</td>\n",
       "      <td>271.610</td>\n",
       "      <td>270.03</td>\n",
       "      <td>271.03</td>\n",
       "      <td>87156564</td>\n",
       "      <td>303002</td>\n",
       "      <td>270.964245</td>\n",
       "    </tr>\n",
       "  </tbody>\n",
       "</table>\n",
       "</div>"
      ],
      "text/plain": [
       "                              AGG                                   \\\n",
       "                             open    high     low   close   volume   \n",
       "timestamp                                                            \n",
       "2018-05-09 04:00:00+00:00  105.56  105.64  105.52  105.57  2507491   \n",
       "2018-05-10 04:00:00+00:00  105.75  105.82  105.69  105.81  2096854   \n",
       "2018-05-11 04:00:00+00:00  105.90  105.90  105.76  105.86  2034081   \n",
       "2018-05-14 04:00:00+00:00  105.79  105.85  105.74  105.76  2183502   \n",
       "2018-05-15 04:00:00+00:00  105.49  105.49  105.19  105.29  2166571   \n",
       "\n",
       "                                                      SPY                   \\\n",
       "                          trade_count        vwap    open     high     low   \n",
       "timestamp                                                                    \n",
       "2018-05-09 04:00:00+00:00        8019  105.586028  267.68  269.865  267.09   \n",
       "2018-05-10 04:00:00+00:00        8645  105.750081  270.34  272.390  270.22   \n",
       "2018-05-11 04:00:00+00:00        8714  105.850098  272.16  273.150  271.58   \n",
       "2018-05-14 04:00:00+00:00       10216  105.800146  273.34  274.080  272.36   \n",
       "2018-05-15 04:00:00+00:00        9762  105.340494  271.59  271.610  270.03   \n",
       "\n",
       "                                                                     \n",
       "                            close    volume trade_count        vwap  \n",
       "timestamp                                                            \n",
       "2018-05-09 04:00:00+00:00  269.47  59773310      255999  268.713210  \n",
       "2018-05-10 04:00:00+00:00  272.00  72065572      258139  271.419538  \n",
       "2018-05-11 04:00:00+00:00  272.64  59909145      215034  272.463557  \n",
       "2018-05-14 04:00:00+00:00  272.95  55292206      215002  273.086937  \n",
       "2018-05-15 04:00:00+00:00  271.03  87156564      303002  270.964245  "
      ]
     },
     "execution_count": 17,
     "metadata": {},
     "output_type": "execute_result"
    }
   ],
   "source": [
    "# Get 5 years' worth of historical data for SPY and AGG\n",
    "\n",
    "df_stock_data = alpaca.get_bars(\n",
    "    tickers,\n",
    "    timeframe,\n",
    "    start=start_date,\n",
    "    end=end_date\n",
    ").df\n",
    "# Reorganize the DataFrame\n",
    "# Separate ticker data\n",
    "AGG = df_stock_data[df_stock_data['symbol'] == 'AGG'].drop('symbol', axis = 1)\n",
    "SPY = df_stock_data[df_stock_data['symbol'] == 'SPY'].drop('symbol', axis = 1)\n",
    "# Concatenate the ticker DataFrames\n",
    "df_stock_data = pd.concat([AGG, SPY], axis = 1, keys = ['AGG', 'SPY'])\n",
    "\n",
    "# Display sample data\n",
    "df_stock_data.head()"
   ]
  },
  {
   "cell_type": "code",
   "execution_count": 18,
   "metadata": {},
   "outputs": [],
   "source": [
    "# Configuring a Monte Carlo simulation to forecast 30 years cumulative returns\n",
    "MC_30_year = MCSimulation(\n",
    "    portfolio_data = df_stock_data,\n",
    "    weights = [0.4, 0.6], \n",
    "    num_simulation = 500, \n",
    "    num_trading_days = 252 * 30\n",
    ")"
   ]
  },
  {
   "cell_type": "code",
   "execution_count": 19,
   "metadata": {},
   "outputs": [
    {
     "data": {
      "text/html": [
       "<div>\n",
       "<style scoped>\n",
       "    .dataframe tbody tr th:only-of-type {\n",
       "        vertical-align: middle;\n",
       "    }\n",
       "\n",
       "    .dataframe tbody tr th {\n",
       "        vertical-align: top;\n",
       "    }\n",
       "\n",
       "    .dataframe thead tr th {\n",
       "        text-align: left;\n",
       "    }\n",
       "\n",
       "    .dataframe thead tr:last-of-type th {\n",
       "        text-align: right;\n",
       "    }\n",
       "</style>\n",
       "<table border=\"1\" class=\"dataframe\">\n",
       "  <thead>\n",
       "    <tr>\n",
       "      <th></th>\n",
       "      <th colspan=\"8\" halign=\"left\">AGG</th>\n",
       "      <th colspan=\"8\" halign=\"left\">SPY</th>\n",
       "    </tr>\n",
       "    <tr>\n",
       "      <th></th>\n",
       "      <th>open</th>\n",
       "      <th>high</th>\n",
       "      <th>low</th>\n",
       "      <th>close</th>\n",
       "      <th>volume</th>\n",
       "      <th>trade_count</th>\n",
       "      <th>vwap</th>\n",
       "      <th>daily_return</th>\n",
       "      <th>open</th>\n",
       "      <th>high</th>\n",
       "      <th>low</th>\n",
       "      <th>close</th>\n",
       "      <th>volume</th>\n",
       "      <th>trade_count</th>\n",
       "      <th>vwap</th>\n",
       "      <th>daily_return</th>\n",
       "    </tr>\n",
       "    <tr>\n",
       "      <th>timestamp</th>\n",
       "      <th></th>\n",
       "      <th></th>\n",
       "      <th></th>\n",
       "      <th></th>\n",
       "      <th></th>\n",
       "      <th></th>\n",
       "      <th></th>\n",
       "      <th></th>\n",
       "      <th></th>\n",
       "      <th></th>\n",
       "      <th></th>\n",
       "      <th></th>\n",
       "      <th></th>\n",
       "      <th></th>\n",
       "      <th></th>\n",
       "      <th></th>\n",
       "    </tr>\n",
       "  </thead>\n",
       "  <tbody>\n",
       "    <tr>\n",
       "      <th>2018-05-09 04:00:00+00:00</th>\n",
       "      <td>105.56</td>\n",
       "      <td>105.64</td>\n",
       "      <td>105.52</td>\n",
       "      <td>105.57</td>\n",
       "      <td>2507491</td>\n",
       "      <td>8019</td>\n",
       "      <td>105.586028</td>\n",
       "      <td>NaN</td>\n",
       "      <td>267.68</td>\n",
       "      <td>269.865</td>\n",
       "      <td>267.09</td>\n",
       "      <td>269.47</td>\n",
       "      <td>59773310</td>\n",
       "      <td>255999</td>\n",
       "      <td>268.713210</td>\n",
       "      <td>NaN</td>\n",
       "    </tr>\n",
       "    <tr>\n",
       "      <th>2018-05-10 04:00:00+00:00</th>\n",
       "      <td>105.75</td>\n",
       "      <td>105.82</td>\n",
       "      <td>105.69</td>\n",
       "      <td>105.81</td>\n",
       "      <td>2096854</td>\n",
       "      <td>8645</td>\n",
       "      <td>105.750081</td>\n",
       "      <td>0.002273</td>\n",
       "      <td>270.34</td>\n",
       "      <td>272.390</td>\n",
       "      <td>270.22</td>\n",
       "      <td>272.00</td>\n",
       "      <td>72065572</td>\n",
       "      <td>258139</td>\n",
       "      <td>271.419538</td>\n",
       "      <td>0.009389</td>\n",
       "    </tr>\n",
       "    <tr>\n",
       "      <th>2018-05-11 04:00:00+00:00</th>\n",
       "      <td>105.90</td>\n",
       "      <td>105.90</td>\n",
       "      <td>105.76</td>\n",
       "      <td>105.86</td>\n",
       "      <td>2034081</td>\n",
       "      <td>8714</td>\n",
       "      <td>105.850098</td>\n",
       "      <td>0.000473</td>\n",
       "      <td>272.16</td>\n",
       "      <td>273.150</td>\n",
       "      <td>271.58</td>\n",
       "      <td>272.64</td>\n",
       "      <td>59909145</td>\n",
       "      <td>215034</td>\n",
       "      <td>272.463557</td>\n",
       "      <td>0.002353</td>\n",
       "    </tr>\n",
       "    <tr>\n",
       "      <th>2018-05-14 04:00:00+00:00</th>\n",
       "      <td>105.79</td>\n",
       "      <td>105.85</td>\n",
       "      <td>105.74</td>\n",
       "      <td>105.76</td>\n",
       "      <td>2183502</td>\n",
       "      <td>10216</td>\n",
       "      <td>105.800146</td>\n",
       "      <td>-0.000945</td>\n",
       "      <td>273.34</td>\n",
       "      <td>274.080</td>\n",
       "      <td>272.36</td>\n",
       "      <td>272.95</td>\n",
       "      <td>55292206</td>\n",
       "      <td>215002</td>\n",
       "      <td>273.086937</td>\n",
       "      <td>0.001137</td>\n",
       "    </tr>\n",
       "    <tr>\n",
       "      <th>2018-05-15 04:00:00+00:00</th>\n",
       "      <td>105.49</td>\n",
       "      <td>105.49</td>\n",
       "      <td>105.19</td>\n",
       "      <td>105.29</td>\n",
       "      <td>2166571</td>\n",
       "      <td>9762</td>\n",
       "      <td>105.340494</td>\n",
       "      <td>-0.004444</td>\n",
       "      <td>271.59</td>\n",
       "      <td>271.610</td>\n",
       "      <td>270.03</td>\n",
       "      <td>271.03</td>\n",
       "      <td>87156564</td>\n",
       "      <td>303002</td>\n",
       "      <td>270.964245</td>\n",
       "      <td>-0.007034</td>\n",
       "    </tr>\n",
       "  </tbody>\n",
       "</table>\n",
       "</div>"
      ],
      "text/plain": [
       "                              AGG                                   \\\n",
       "                             open    high     low   close   volume   \n",
       "timestamp                                                            \n",
       "2018-05-09 04:00:00+00:00  105.56  105.64  105.52  105.57  2507491   \n",
       "2018-05-10 04:00:00+00:00  105.75  105.82  105.69  105.81  2096854   \n",
       "2018-05-11 04:00:00+00:00  105.90  105.90  105.76  105.86  2034081   \n",
       "2018-05-14 04:00:00+00:00  105.79  105.85  105.74  105.76  2183502   \n",
       "2018-05-15 04:00:00+00:00  105.49  105.49  105.19  105.29  2166571   \n",
       "\n",
       "                                                                   SPY  \\\n",
       "                          trade_count        vwap daily_return    open   \n",
       "timestamp                                                                \n",
       "2018-05-09 04:00:00+00:00        8019  105.586028          NaN  267.68   \n",
       "2018-05-10 04:00:00+00:00        8645  105.750081     0.002273  270.34   \n",
       "2018-05-11 04:00:00+00:00        8714  105.850098     0.000473  272.16   \n",
       "2018-05-14 04:00:00+00:00       10216  105.800146    -0.000945  273.34   \n",
       "2018-05-15 04:00:00+00:00        9762  105.340494    -0.004444  271.59   \n",
       "\n",
       "                                                                          \\\n",
       "                              high     low   close    volume trade_count   \n",
       "timestamp                                                                  \n",
       "2018-05-09 04:00:00+00:00  269.865  267.09  269.47  59773310      255999   \n",
       "2018-05-10 04:00:00+00:00  272.390  270.22  272.00  72065572      258139   \n",
       "2018-05-11 04:00:00+00:00  273.150  271.58  272.64  59909145      215034   \n",
       "2018-05-14 04:00:00+00:00  274.080  272.36  272.95  55292206      215002   \n",
       "2018-05-15 04:00:00+00:00  271.610  270.03  271.03  87156564      303002   \n",
       "\n",
       "                                                    \n",
       "                                 vwap daily_return  \n",
       "timestamp                                           \n",
       "2018-05-09 04:00:00+00:00  268.713210          NaN  \n",
       "2018-05-10 04:00:00+00:00  271.419538     0.009389  \n",
       "2018-05-11 04:00:00+00:00  272.463557     0.002353  \n",
       "2018-05-14 04:00:00+00:00  273.086937     0.001137  \n",
       "2018-05-15 04:00:00+00:00  270.964245    -0.007034  "
      ]
     },
     "execution_count": 19,
     "metadata": {},
     "output_type": "execute_result"
    }
   ],
   "source": [
    "# Printing the simulation input data\n",
    "MC_30_year.portfolio_data.head()"
   ]
  },
  {
   "cell_type": "code",
   "execution_count": 22,
   "metadata": {
    "tags": []
   },
   "outputs": [
    {
     "name": "stdout",
     "output_type": "stream",
     "text": [
      "Running Monte Carlo simulation number 0.\n",
      "Running Monte Carlo simulation number 10.\n",
      "Running Monte Carlo simulation number 20.\n",
      "Running Monte Carlo simulation number 30.\n",
      "Running Monte Carlo simulation number 40.\n",
      "Running Monte Carlo simulation number 50.\n",
      "Running Monte Carlo simulation number 60.\n",
      "Running Monte Carlo simulation number 70.\n",
      "Running Monte Carlo simulation number 80.\n",
      "Running Monte Carlo simulation number 90.\n",
      "Running Monte Carlo simulation number 100.\n",
      "Running Monte Carlo simulation number 110.\n",
      "Running Monte Carlo simulation number 120.\n",
      "Running Monte Carlo simulation number 130.\n",
      "Running Monte Carlo simulation number 140.\n",
      "Running Monte Carlo simulation number 150.\n",
      "Running Monte Carlo simulation number 160.\n",
      "Running Monte Carlo simulation number 170.\n",
      "Running Monte Carlo simulation number 180.\n",
      "Running Monte Carlo simulation number 190.\n",
      "Running Monte Carlo simulation number 200.\n",
      "Running Monte Carlo simulation number 210.\n",
      "Running Monte Carlo simulation number 220.\n",
      "Running Monte Carlo simulation number 230.\n",
      "Running Monte Carlo simulation number 240.\n",
      "Running Monte Carlo simulation number 250.\n",
      "Running Monte Carlo simulation number 260.\n",
      "Running Monte Carlo simulation number 270.\n",
      "Running Monte Carlo simulation number 280.\n",
      "Running Monte Carlo simulation number 290.\n",
      "Running Monte Carlo simulation number 300.\n",
      "Running Monte Carlo simulation number 310.\n",
      "Running Monte Carlo simulation number 320.\n",
      "Running Monte Carlo simulation number 330.\n",
      "Running Monte Carlo simulation number 340.\n",
      "Running Monte Carlo simulation number 350.\n",
      "Running Monte Carlo simulation number 360.\n",
      "Running Monte Carlo simulation number 370.\n",
      "Running Monte Carlo simulation number 380.\n",
      "Running Monte Carlo simulation number 390.\n",
      "Running Monte Carlo simulation number 400.\n",
      "Running Monte Carlo simulation number 410.\n",
      "Running Monte Carlo simulation number 420.\n",
      "Running Monte Carlo simulation number 430.\n",
      "Running Monte Carlo simulation number 440.\n",
      "Running Monte Carlo simulation number 450.\n",
      "Running Monte Carlo simulation number 460.\n",
      "Running Monte Carlo simulation number 470.\n",
      "Running Monte Carlo simulation number 480.\n",
      "Running Monte Carlo simulation number 490.\n"
     ]
    },
    {
     "data": {
      "text/html": [
       "<div>\n",
       "<style scoped>\n",
       "    .dataframe tbody tr th:only-of-type {\n",
       "        vertical-align: middle;\n",
       "    }\n",
       "\n",
       "    .dataframe tbody tr th {\n",
       "        vertical-align: top;\n",
       "    }\n",
       "\n",
       "    .dataframe thead th {\n",
       "        text-align: right;\n",
       "    }\n",
       "</style>\n",
       "<table border=\"1\" class=\"dataframe\">\n",
       "  <thead>\n",
       "    <tr style=\"text-align: right;\">\n",
       "      <th></th>\n",
       "      <th>0</th>\n",
       "      <th>1</th>\n",
       "      <th>2</th>\n",
       "      <th>3</th>\n",
       "      <th>4</th>\n",
       "      <th>5</th>\n",
       "      <th>6</th>\n",
       "      <th>7</th>\n",
       "      <th>8</th>\n",
       "      <th>9</th>\n",
       "      <th>...</th>\n",
       "      <th>490</th>\n",
       "      <th>491</th>\n",
       "      <th>492</th>\n",
       "      <th>493</th>\n",
       "      <th>494</th>\n",
       "      <th>495</th>\n",
       "      <th>496</th>\n",
       "      <th>497</th>\n",
       "      <th>498</th>\n",
       "      <th>499</th>\n",
       "    </tr>\n",
       "  </thead>\n",
       "  <tbody>\n",
       "    <tr>\n",
       "      <th>0</th>\n",
       "      <td>1.000000</td>\n",
       "      <td>1.000000</td>\n",
       "      <td>1.000000</td>\n",
       "      <td>1.000000</td>\n",
       "      <td>1.000000</td>\n",
       "      <td>1.000000</td>\n",
       "      <td>1.000000</td>\n",
       "      <td>1.000000</td>\n",
       "      <td>1.000000</td>\n",
       "      <td>1.000000</td>\n",
       "      <td>...</td>\n",
       "      <td>1.000000</td>\n",
       "      <td>1.000000</td>\n",
       "      <td>1.000000</td>\n",
       "      <td>1.000000</td>\n",
       "      <td>1.000000</td>\n",
       "      <td>1.000000</td>\n",
       "      <td>1.000000</td>\n",
       "      <td>1.000000</td>\n",
       "      <td>1.000000</td>\n",
       "      <td>1.000000</td>\n",
       "    </tr>\n",
       "    <tr>\n",
       "      <th>1</th>\n",
       "      <td>0.999128</td>\n",
       "      <td>0.999545</td>\n",
       "      <td>1.002226</td>\n",
       "      <td>1.006492</td>\n",
       "      <td>0.999502</td>\n",
       "      <td>1.019649</td>\n",
       "      <td>0.999457</td>\n",
       "      <td>0.999082</td>\n",
       "      <td>1.007533</td>\n",
       "      <td>1.002185</td>\n",
       "      <td>...</td>\n",
       "      <td>1.002752</td>\n",
       "      <td>0.996563</td>\n",
       "      <td>1.008954</td>\n",
       "      <td>1.002702</td>\n",
       "      <td>0.989381</td>\n",
       "      <td>1.008476</td>\n",
       "      <td>0.999097</td>\n",
       "      <td>1.013891</td>\n",
       "      <td>0.999396</td>\n",
       "      <td>0.992760</td>\n",
       "    </tr>\n",
       "    <tr>\n",
       "      <th>2</th>\n",
       "      <td>1.006051</td>\n",
       "      <td>1.011855</td>\n",
       "      <td>1.013027</td>\n",
       "      <td>1.011485</td>\n",
       "      <td>0.990345</td>\n",
       "      <td>1.023190</td>\n",
       "      <td>0.989345</td>\n",
       "      <td>0.999137</td>\n",
       "      <td>1.001732</td>\n",
       "      <td>1.004708</td>\n",
       "      <td>...</td>\n",
       "      <td>1.002411</td>\n",
       "      <td>1.003335</td>\n",
       "      <td>1.015565</td>\n",
       "      <td>0.992613</td>\n",
       "      <td>0.985188</td>\n",
       "      <td>0.994706</td>\n",
       "      <td>1.006141</td>\n",
       "      <td>1.019415</td>\n",
       "      <td>0.983963</td>\n",
       "      <td>0.984540</td>\n",
       "    </tr>\n",
       "    <tr>\n",
       "      <th>3</th>\n",
       "      <td>1.003303</td>\n",
       "      <td>1.012278</td>\n",
       "      <td>1.011615</td>\n",
       "      <td>0.997565</td>\n",
       "      <td>0.999240</td>\n",
       "      <td>1.015934</td>\n",
       "      <td>0.970225</td>\n",
       "      <td>0.985236</td>\n",
       "      <td>1.010940</td>\n",
       "      <td>1.015867</td>\n",
       "      <td>...</td>\n",
       "      <td>0.998866</td>\n",
       "      <td>1.021002</td>\n",
       "      <td>1.023221</td>\n",
       "      <td>1.001777</td>\n",
       "      <td>0.995684</td>\n",
       "      <td>0.999954</td>\n",
       "      <td>1.015049</td>\n",
       "      <td>1.012085</td>\n",
       "      <td>0.986202</td>\n",
       "      <td>0.996467</td>\n",
       "    </tr>\n",
       "    <tr>\n",
       "      <th>4</th>\n",
       "      <td>1.009938</td>\n",
       "      <td>1.009016</td>\n",
       "      <td>1.001493</td>\n",
       "      <td>1.005928</td>\n",
       "      <td>0.999449</td>\n",
       "      <td>1.023458</td>\n",
       "      <td>0.973019</td>\n",
       "      <td>0.975302</td>\n",
       "      <td>1.018816</td>\n",
       "      <td>0.991193</td>\n",
       "      <td>...</td>\n",
       "      <td>0.998837</td>\n",
       "      <td>1.017807</td>\n",
       "      <td>1.033300</td>\n",
       "      <td>0.991925</td>\n",
       "      <td>0.986850</td>\n",
       "      <td>0.993208</td>\n",
       "      <td>1.029534</td>\n",
       "      <td>1.023080</td>\n",
       "      <td>0.977548</td>\n",
       "      <td>1.002993</td>\n",
       "    </tr>\n",
       "    <tr>\n",
       "      <th>...</th>\n",
       "      <td>...</td>\n",
       "      <td>...</td>\n",
       "      <td>...</td>\n",
       "      <td>...</td>\n",
       "      <td>...</td>\n",
       "      <td>...</td>\n",
       "      <td>...</td>\n",
       "      <td>...</td>\n",
       "      <td>...</td>\n",
       "      <td>...</td>\n",
       "      <td>...</td>\n",
       "      <td>...</td>\n",
       "      <td>...</td>\n",
       "      <td>...</td>\n",
       "      <td>...</td>\n",
       "      <td>...</td>\n",
       "      <td>...</td>\n",
       "      <td>...</td>\n",
       "      <td>...</td>\n",
       "      <td>...</td>\n",
       "      <td>...</td>\n",
       "    </tr>\n",
       "    <tr>\n",
       "      <th>7556</th>\n",
       "      <td>9.104622</td>\n",
       "      <td>1.546254</td>\n",
       "      <td>4.118219</td>\n",
       "      <td>10.948104</td>\n",
       "      <td>4.948370</td>\n",
       "      <td>3.984018</td>\n",
       "      <td>6.146331</td>\n",
       "      <td>5.845966</td>\n",
       "      <td>2.540677</td>\n",
       "      <td>13.247179</td>\n",
       "      <td>...</td>\n",
       "      <td>6.176179</td>\n",
       "      <td>7.919893</td>\n",
       "      <td>5.262871</td>\n",
       "      <td>6.042336</td>\n",
       "      <td>8.845061</td>\n",
       "      <td>3.615619</td>\n",
       "      <td>3.938286</td>\n",
       "      <td>2.219286</td>\n",
       "      <td>6.167999</td>\n",
       "      <td>7.866234</td>\n",
       "    </tr>\n",
       "    <tr>\n",
       "      <th>7557</th>\n",
       "      <td>9.071821</td>\n",
       "      <td>1.565828</td>\n",
       "      <td>4.110073</td>\n",
       "      <td>11.000677</td>\n",
       "      <td>4.919257</td>\n",
       "      <td>3.929214</td>\n",
       "      <td>6.213098</td>\n",
       "      <td>5.937989</td>\n",
       "      <td>2.562411</td>\n",
       "      <td>13.214366</td>\n",
       "      <td>...</td>\n",
       "      <td>6.271220</td>\n",
       "      <td>7.967995</td>\n",
       "      <td>5.320502</td>\n",
       "      <td>6.065424</td>\n",
       "      <td>8.889597</td>\n",
       "      <td>3.602787</td>\n",
       "      <td>3.925693</td>\n",
       "      <td>2.212429</td>\n",
       "      <td>6.192445</td>\n",
       "      <td>7.875080</td>\n",
       "    </tr>\n",
       "    <tr>\n",
       "      <th>7558</th>\n",
       "      <td>9.132975</td>\n",
       "      <td>1.566629</td>\n",
       "      <td>4.100043</td>\n",
       "      <td>10.989602</td>\n",
       "      <td>4.922703</td>\n",
       "      <td>3.935071</td>\n",
       "      <td>6.292552</td>\n",
       "      <td>5.927915</td>\n",
       "      <td>2.573625</td>\n",
       "      <td>13.265526</td>\n",
       "      <td>...</td>\n",
       "      <td>6.373389</td>\n",
       "      <td>7.966882</td>\n",
       "      <td>5.411467</td>\n",
       "      <td>6.021101</td>\n",
       "      <td>8.819000</td>\n",
       "      <td>3.642835</td>\n",
       "      <td>3.932221</td>\n",
       "      <td>2.207489</td>\n",
       "      <td>6.115173</td>\n",
       "      <td>7.866310</td>\n",
       "    </tr>\n",
       "    <tr>\n",
       "      <th>7559</th>\n",
       "      <td>9.219336</td>\n",
       "      <td>1.577121</td>\n",
       "      <td>4.073589</td>\n",
       "      <td>11.106296</td>\n",
       "      <td>4.921325</td>\n",
       "      <td>3.970870</td>\n",
       "      <td>6.287121</td>\n",
       "      <td>5.939445</td>\n",
       "      <td>2.551215</td>\n",
       "      <td>13.123260</td>\n",
       "      <td>...</td>\n",
       "      <td>6.389362</td>\n",
       "      <td>7.957159</td>\n",
       "      <td>5.359681</td>\n",
       "      <td>5.989535</td>\n",
       "      <td>8.759566</td>\n",
       "      <td>3.686369</td>\n",
       "      <td>3.889426</td>\n",
       "      <td>2.206976</td>\n",
       "      <td>6.151227</td>\n",
       "      <td>7.877575</td>\n",
       "    </tr>\n",
       "    <tr>\n",
       "      <th>7560</th>\n",
       "      <td>9.268603</td>\n",
       "      <td>1.586488</td>\n",
       "      <td>4.113459</td>\n",
       "      <td>11.177899</td>\n",
       "      <td>4.837384</td>\n",
       "      <td>4.019076</td>\n",
       "      <td>6.257095</td>\n",
       "      <td>5.945723</td>\n",
       "      <td>2.528425</td>\n",
       "      <td>13.261171</td>\n",
       "      <td>...</td>\n",
       "      <td>6.317829</td>\n",
       "      <td>8.021104</td>\n",
       "      <td>5.308583</td>\n",
       "      <td>5.983983</td>\n",
       "      <td>8.782319</td>\n",
       "      <td>3.723785</td>\n",
       "      <td>3.848453</td>\n",
       "      <td>2.210325</td>\n",
       "      <td>6.167206</td>\n",
       "      <td>7.856597</td>\n",
       "    </tr>\n",
       "  </tbody>\n",
       "</table>\n",
       "<p>7561 rows × 500 columns</p>\n",
       "</div>"
      ],
      "text/plain": [
       "           0         1         2          3         4         5         6    \\\n",
       "0     1.000000  1.000000  1.000000   1.000000  1.000000  1.000000  1.000000   \n",
       "1     0.999128  0.999545  1.002226   1.006492  0.999502  1.019649  0.999457   \n",
       "2     1.006051  1.011855  1.013027   1.011485  0.990345  1.023190  0.989345   \n",
       "3     1.003303  1.012278  1.011615   0.997565  0.999240  1.015934  0.970225   \n",
       "4     1.009938  1.009016  1.001493   1.005928  0.999449  1.023458  0.973019   \n",
       "...        ...       ...       ...        ...       ...       ...       ...   \n",
       "7556  9.104622  1.546254  4.118219  10.948104  4.948370  3.984018  6.146331   \n",
       "7557  9.071821  1.565828  4.110073  11.000677  4.919257  3.929214  6.213098   \n",
       "7558  9.132975  1.566629  4.100043  10.989602  4.922703  3.935071  6.292552   \n",
       "7559  9.219336  1.577121  4.073589  11.106296  4.921325  3.970870  6.287121   \n",
       "7560  9.268603  1.586488  4.113459  11.177899  4.837384  4.019076  6.257095   \n",
       "\n",
       "           7         8          9    ...       490       491       492  \\\n",
       "0     1.000000  1.000000   1.000000  ...  1.000000  1.000000  1.000000   \n",
       "1     0.999082  1.007533   1.002185  ...  1.002752  0.996563  1.008954   \n",
       "2     0.999137  1.001732   1.004708  ...  1.002411  1.003335  1.015565   \n",
       "3     0.985236  1.010940   1.015867  ...  0.998866  1.021002  1.023221   \n",
       "4     0.975302  1.018816   0.991193  ...  0.998837  1.017807  1.033300   \n",
       "...        ...       ...        ...  ...       ...       ...       ...   \n",
       "7556  5.845966  2.540677  13.247179  ...  6.176179  7.919893  5.262871   \n",
       "7557  5.937989  2.562411  13.214366  ...  6.271220  7.967995  5.320502   \n",
       "7558  5.927915  2.573625  13.265526  ...  6.373389  7.966882  5.411467   \n",
       "7559  5.939445  2.551215  13.123260  ...  6.389362  7.957159  5.359681   \n",
       "7560  5.945723  2.528425  13.261171  ...  6.317829  8.021104  5.308583   \n",
       "\n",
       "           493       494       495       496       497       498       499  \n",
       "0     1.000000  1.000000  1.000000  1.000000  1.000000  1.000000  1.000000  \n",
       "1     1.002702  0.989381  1.008476  0.999097  1.013891  0.999396  0.992760  \n",
       "2     0.992613  0.985188  0.994706  1.006141  1.019415  0.983963  0.984540  \n",
       "3     1.001777  0.995684  0.999954  1.015049  1.012085  0.986202  0.996467  \n",
       "4     0.991925  0.986850  0.993208  1.029534  1.023080  0.977548  1.002993  \n",
       "...        ...       ...       ...       ...       ...       ...       ...  \n",
       "7556  6.042336  8.845061  3.615619  3.938286  2.219286  6.167999  7.866234  \n",
       "7557  6.065424  8.889597  3.602787  3.925693  2.212429  6.192445  7.875080  \n",
       "7558  6.021101  8.819000  3.642835  3.932221  2.207489  6.115173  7.866310  \n",
       "7559  5.989535  8.759566  3.686369  3.889426  2.206976  6.151227  7.877575  \n",
       "7560  5.983983  8.782319  3.723785  3.848453  2.210325  6.167206  7.856597  \n",
       "\n",
       "[7561 rows x 500 columns]"
      ]
     },
     "execution_count": 22,
     "metadata": {},
     "output_type": "execute_result"
    }
   ],
   "source": [
    "# Running a Monte Carlo simulation to forecast 30 years cumulative returns\n",
    "MC_30_year.calc_cumulative_return()"
   ]
  },
  {
   "cell_type": "code",
   "execution_count": 23,
   "metadata": {
    "tags": []
   },
   "outputs": [
    {
     "data": {
      "text/plain": [
       "<Axes: title={'center': '500 Simulations of Cumulative Portfolio Return Trajectories Over the Next 7560 Trading Days.'}>"
      ]
     },
     "execution_count": 23,
     "metadata": {},
     "output_type": "execute_result"
    },
    {
     "data": {
      "image/png": "[encoded data removed]",
      "text/plain": [
       "<Figure size 640x480 with 1 Axes>"
      ]
     },
     "metadata": {},
     "output_type": "display_data"
    }
   ],
   "source": [
    "# Plot simulation outcomes\n",
    "MC_30_year.plot_simulation()"
   ]
  },
  {
   "cell_type": "code",
   "execution_count": 24,
   "metadata": {},
   "outputs": [
    {
     "data": {
      "text/plain": [
       "<Axes: title={'center': 'Distribution of Final Cumuluative Returns Across All 500 Simulations'}, ylabel='Frequency'>"
      ]
     },
     "execution_count": 24,
     "metadata": {},
     "output_type": "execute_result"
    },
    {
     "data": {
      "image/png": "[encoded data removed]",
      "text/plain": [
       "<Figure size 640x480 with 1 Axes>"
      ]
     },
     "metadata": {},
     "output_type": "display_data"
    }
   ],
   "source": [
    "# Plot probability distribution and confidence intervals\n",
    "MC_30_year.plot_distribution()"
   ]
  },
  {
   "cell_type": "markdown",
   "metadata": {},
   "source": [
    "### Retirement Analysis"
   ]
  },
  {
   "cell_type": "code",
   "execution_count": 25,
   "metadata": {},
   "outputs": [
    {
     "data": {
      "text/plain": [
       "count           500.000000\n",
       "mean              5.667480\n",
       "std               4.152891\n",
       "min               0.636315\n",
       "25%               2.823807\n",
       "50%               4.535063\n",
       "75%               7.348070\n",
       "max              37.771831\n",
       "95% CI Lower      1.332168\n",
       "95% CI Upper     15.819684\n",
       "Name: 7560, dtype: float64"
      ]
     },
     "execution_count": 25,
     "metadata": {},
     "output_type": "execute_result"
    }
   ],
   "source": [
    "# Fetch summary statistics from the Monte Carlo simulation results\n",
    "MC_30_year_analysis = MC_30_year.summarize_cumulative_return()\n",
    "\n",
    "# Print summary statistics\n",
    "MC_30_year_analysis"
   ]
  },
  {
   "cell_type": "markdown",
   "metadata": {},
   "source": [
    "### Calculate the expected portfolio return at the `95%` lower and upper confidence intervals based on a `$20,000` initial investment."
   ]
  },
  {
   "cell_type": "code",
   "execution_count": 28,
   "metadata": {},
   "outputs": [
    {
     "name": "stdout",
     "output_type": "stream",
     "text": [
      "There is a 95% chance that an initial investment of $20000 in the portfolio over the next 30 years will end within in the range of $26643.36 and $316393.67\n"
     ]
    }
   ],
   "source": [
    "# Set initial investment\n",
    "initial_investment = 20000\n",
    "\n",
    "# Use the lower and upper `95%` confidence intervals to calculate the range of the possible outcomes of our $20,000\n",
    "ci_lower = round(MC_30_year_analysis[8]*initial_investment,2)\n",
    "ci_upper = round(MC_30_year_analysis[9]*initial_investment,2)\n",
    "# Print results\n",
    "print(f\"There is a 95% chance that an initial investment of ${initial_investment} in the portfolio\"\n",
    "      f\" over the next 30 years will end within in the range of\"\n",
    "      f\" ${ci_lower} and ${ci_upper}\")"
   ]
  },
  {
   "cell_type": "markdown",
   "metadata": {},
   "source": [
    "### Calculate the expected portfolio return at the `95%` lower and upper confidence intervals based on a `50%` increase in the initial investment."
   ]
  },
  {
   "cell_type": "code",
   "execution_count": 29,
   "metadata": {},
   "outputs": [
    {
     "name": "stdout",
     "output_type": "stream",
     "text": [
      "There is a 95% chance that an initial investment of $30000.0 in the portfolio over the next 30 years will end within in the range of $39965.05 and $474590.51\n"
     ]
    }
   ],
   "source": [
    "# Set initial investment\n",
    "initial_investment = 20000 * 1.5\n",
    "\n",
    "# Use the lower and upper `95%` confidence intervals to calculate the range of the possible outcomes of our $30,000\n",
    "ci_lower = round(MC_30_year_analysis[8]*initial_investment,2)\n",
    "ci_upper = round(MC_30_year_analysis[9]*initial_investment,2)\n",
    "\n",
    "# Print results\n",
    "print(f\"There is a 95% chance that an initial investment of ${initial_investment} in the portfolio\"\n",
    "      f\" over the next 30 years will end within in the range of\"\n",
    "      f\" ${ci_lower} and ${ci_upper}\")"
   ]
  },
  {
   "cell_type": "markdown",
   "metadata": {},
   "source": [
    "## Optional Challenge - Early Retirement\n",
    "\n",
    "\n",
    "### Five Years Retirement Option"
   ]
  },
  {
   "cell_type": "code",
   "execution_count": null,
   "metadata": {},
   "outputs": [],
   "source": [
    "# Configuring a Monte Carlo simulation to forecast 5 years cumulative returns\n",
    "# YOUR CODE HERE!"
   ]
  },
  {
   "cell_type": "code",
   "execution_count": null,
   "metadata": {},
   "outputs": [],
   "source": [
    "# Running a Monte Carlo simulation to forecast 5 years cumulative returns\n",
    "# YOUR CODE HERE!"
   ]
  },
  {
   "cell_type": "code",
   "execution_count": null,
   "metadata": {},
   "outputs": [],
   "source": [
    "# Plot simulation outcomes\n",
    "# YOUR CODE HERE!"
   ]
  },
  {
   "cell_type": "code",
   "execution_count": null,
   "metadata": {},
   "outputs": [],
   "source": [
    "# Plot probability distribution and confidence intervals\n",
    "# YOUR CODE HERE!"
   ]
  },
  {
   "cell_type": "code",
   "execution_count": null,
   "metadata": {},
   "outputs": [],
   "source": [
    "# Fetch summary statistics from the Monte Carlo simulation results\n",
    "# YOUR CODE HERE!\n",
    "\n",
    "# Print summary statistics\n",
    "# YOUR CODE HERE!"
   ]
  },
  {
   "cell_type": "code",
   "execution_count": null,
   "metadata": {},
   "outputs": [],
   "source": [
    "# Set initial investment\n",
    "# YOUR CODE HERE!\n",
    "\n",
    "# Use the lower and upper `95%` confidence intervals to calculate the range of the possible outcomes of our $60,000\n",
    "# YOUR CODE HERE!\n",
    "\n",
    "# Print results\n",
    "print(f\"There is a 95% chance that an initial investment of ${initial_investment} in the portfolio\"\n",
    "      f\" over the next 5 years will end within in the range of\"\n",
    "      f\" ${ci_lower_five} and ${ci_upper_five}\")"
   ]
  },
  {
   "cell_type": "markdown",
   "metadata": {},
   "source": [
    "### Ten Years Retirement Option"
   ]
  },
  {
   "cell_type": "code",
   "execution_count": null,
   "metadata": {},
   "outputs": [],
   "source": [
    "# Configuring a Monte Carlo simulation to forecast 10 years cumulative returns\n",
    "# YOUR CODE HERE!"
   ]
  },
  {
   "cell_type": "code",
   "execution_count": null,
   "metadata": {},
   "outputs": [],
   "source": [
    "# Running a Monte Carlo simulation to forecast 10 years cumulative returns\n",
    "# YOUR CODE HERE!"
   ]
  },
  {
   "cell_type": "code",
   "execution_count": null,
   "metadata": {},
   "outputs": [],
   "source": [
    "# Plot simulation outcomes\n",
    "# YOUR CODE HERE!"
   ]
  },
  {
   "cell_type": "code",
   "execution_count": null,
   "metadata": {},
   "outputs": [],
   "source": [
    "# Plot probability distribution and confidence intervals\n",
    "# YOUR CODE HERE!"
   ]
  },
  {
   "cell_type": "code",
   "execution_count": null,
   "metadata": {},
   "outputs": [],
   "source": [
    "# Fetch summary statistics from the Monte Carlo simulation results\n",
    "# YOUR CODE HERE!\n",
    "\n",
    "# Print summary statistics\n",
    "# YOUR CODE HERE!"
   ]
  },
  {
   "cell_type": "code",
   "execution_count": null,
   "metadata": {},
   "outputs": [],
   "source": [
    "# Set initial investment\n",
    "# YOUR CODE HERE!\n",
    "\n",
    "# Use the lower and upper `95%` confidence intervals to calculate the range of the possible outcomes of our $60,000\n",
    "# YOUR CODE HERE!\n",
    "\n",
    "# Print results\n",
    "print(f\"There is a 95% chance that an initial investment of ${initial_investment} in the portfolio\"\n",
    "      f\" over the next 10 years will end within in the range of\"\n",
    "      f\" ${ci_lower_ten} and ${ci_upper_ten}\")"
   ]
  },
  {
   "cell_type": "code",
   "execution_count": null,
   "metadata": {},
   "outputs": [],
   "source": []
  }
 ],
 "metadata": {
  "kernelspec": {
   "display_name": "Python 3 (ipykernel)",
   "language": "python",
   "name": "python3"
  },
  "language_info": {
   "codemirror_mode": {
    "name": "ipython",
    "version": 3
   },
   "file_extension": ".py",
   "mimetype": "text/x-python",
   "name": "python",
   "nbconvert_exporter": "python",
   "pygments_lexer": "ipython3",
   "version": "3.10.11"
  },
  "nteract": {
   "version": "0.28.0"
  }
 },
 "nbformat": 4,
 "nbformat_minor": 4
}
